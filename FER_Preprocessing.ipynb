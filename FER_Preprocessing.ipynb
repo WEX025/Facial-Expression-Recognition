{
 "cells": [
  {
   "cell_type": "markdown",
   "metadata": {},
   "source": [
    "# Kaggle Competition: Facial Expression Recognition"
   ]
  },
  {
   "cell_type": "markdown",
   "metadata": {},
   "source": [
    "https://www.kaggle.com/c/challenges-in-representation-learning-facial-expression-recognition-challenge"
   ]
  },
  {
   "cell_type": "markdown",
   "metadata": {},
   "source": [
    "## Data Exploration"
   ]
  },
  {
   "cell_type": "markdown",
   "metadata": {},
   "source": [
    "### Overview of Dataset"
   ]
  },
  {
   "cell_type": "code",
   "execution_count": 1,
   "metadata": {},
   "outputs": [
    {
     "data": {
      "text/html": [
       "<div>\n",
       "<style>\n",
       "    .dataframe thead tr:only-child th {\n",
       "        text-align: right;\n",
       "    }\n",
       "\n",
       "    .dataframe thead th {\n",
       "        text-align: left;\n",
       "    }\n",
       "\n",
       "    .dataframe tbody tr th {\n",
       "        vertical-align: top;\n",
       "    }\n",
       "</style>\n",
       "<table border=\"1\" class=\"dataframe\">\n",
       "  <thead>\n",
       "    <tr style=\"text-align: right;\">\n",
       "      <th></th>\n",
       "      <th>emotion</th>\n",
       "      <th>pixels</th>\n",
       "      <th>Usage</th>\n",
       "    </tr>\n",
       "  </thead>\n",
       "  <tbody>\n",
       "    <tr>\n",
       "      <th>0</th>\n",
       "      <td>0</td>\n",
       "      <td>70 80 82 72 58 58 60 63 54 58 60 48 89 115 121...</td>\n",
       "      <td>Training</td>\n",
       "    </tr>\n",
       "    <tr>\n",
       "      <th>1</th>\n",
       "      <td>0</td>\n",
       "      <td>151 150 147 155 148 133 111 140 170 174 182 15...</td>\n",
       "      <td>Training</td>\n",
       "    </tr>\n",
       "    <tr>\n",
       "      <th>2</th>\n",
       "      <td>2</td>\n",
       "      <td>231 212 156 164 174 138 161 173 182 200 106 38...</td>\n",
       "      <td>Training</td>\n",
       "    </tr>\n",
       "    <tr>\n",
       "      <th>3</th>\n",
       "      <td>4</td>\n",
       "      <td>24 32 36 30 32 23 19 20 30 41 21 22 32 34 21 1...</td>\n",
       "      <td>Training</td>\n",
       "    </tr>\n",
       "    <tr>\n",
       "      <th>4</th>\n",
       "      <td>6</td>\n",
       "      <td>4 0 0 0 0 0 0 0 0 0 0 0 3 15 23 28 48 50 58 84...</td>\n",
       "      <td>Training</td>\n",
       "    </tr>\n",
       "    <tr>\n",
       "      <th>5</th>\n",
       "      <td>2</td>\n",
       "      <td>55 55 55 55 55 54 60 68 54 85 151 163 170 179 ...</td>\n",
       "      <td>Training</td>\n",
       "    </tr>\n",
       "    <tr>\n",
       "      <th>6</th>\n",
       "      <td>4</td>\n",
       "      <td>20 17 19 21 25 38 42 42 46 54 56 62 63 66 82 1...</td>\n",
       "      <td>Training</td>\n",
       "    </tr>\n",
       "    <tr>\n",
       "      <th>7</th>\n",
       "      <td>3</td>\n",
       "      <td>77 78 79 79 78 75 60 55 47 48 58 73 77 79 57 5...</td>\n",
       "      <td>Training</td>\n",
       "    </tr>\n",
       "    <tr>\n",
       "      <th>8</th>\n",
       "      <td>3</td>\n",
       "      <td>85 84 90 121 101 102 133 153 153 169 177 189 1...</td>\n",
       "      <td>Training</td>\n",
       "    </tr>\n",
       "    <tr>\n",
       "      <th>9</th>\n",
       "      <td>2</td>\n",
       "      <td>255 254 255 254 254 179 122 107 95 124 149 150...</td>\n",
       "      <td>Training</td>\n",
       "    </tr>\n",
       "  </tbody>\n",
       "</table>\n",
       "</div>"
      ],
      "text/plain": [
       "   emotion                                             pixels     Usage\n",
       "0        0  70 80 82 72 58 58 60 63 54 58 60 48 89 115 121...  Training\n",
       "1        0  151 150 147 155 148 133 111 140 170 174 182 15...  Training\n",
       "2        2  231 212 156 164 174 138 161 173 182 200 106 38...  Training\n",
       "3        4  24 32 36 30 32 23 19 20 30 41 21 22 32 34 21 1...  Training\n",
       "4        6  4 0 0 0 0 0 0 0 0 0 0 0 3 15 23 28 48 50 58 84...  Training\n",
       "5        2  55 55 55 55 55 54 60 68 54 85 151 163 170 179 ...  Training\n",
       "6        4  20 17 19 21 25 38 42 42 46 54 56 62 63 66 82 1...  Training\n",
       "7        3  77 78 79 79 78 75 60 55 47 48 58 73 77 79 57 5...  Training\n",
       "8        3  85 84 90 121 101 102 133 153 153 169 177 189 1...  Training\n",
       "9        2  255 254 255 254 254 179 122 107 95 124 149 150...  Training"
      ]
     },
     "metadata": {},
     "output_type": "display_data"
    },
    {
     "name": "stdout",
     "output_type": "stream",
     "text": [
      "\u001b[1mThe total number of rows in dataset\u001b[0m\n",
      "\n",
      "emotion    35887\n",
      "pixels     35887\n",
      "Usage      35887\n",
      "dtype: int64\n",
      "\n",
      "\u001b[1mAll the keywords with their starting index in 'Usage' column\n",
      "\u001b[0m\n",
      "0           Training\n",
      "28709     PublicTest\n",
      "32298    PrivateTest\n",
      "Name: Usage, dtype: object\n",
      "\n",
      "There are 7 Labels in total for each emotion\n",
      "[0 2 4 6 3 5 1]\n"
     ]
    }
   ],
   "source": [
    "import cv2\n",
    "import pickle\n",
    "import os\n",
    "import pandas as pd\n",
    "import numpy as np\n",
    "import matplotlib.pyplot as plt\n",
    "import tensorflow as tf\n",
    "from IPython.display import display\n",
    "from sklearn.model_selection import train_test_split\n",
    "from pathlib import Path\n",
    "\n",
    "def load_raw_data():\n",
    "    \n",
    "    data = pd.read_csv(\"fer2013.csv\")\n",
    "\n",
    "    usage_ix = data.drop_duplicates('Usage')['Usage']\n",
    "    usage_ix = usage_ix.index\n",
    "    n_classes = len(data.drop_duplicates('emotion')['emotion'].values)\n",
    "    return data, usage_ix, n_classes\n",
    "\n",
    "#::::::::TEST:::::::#\n",
    "data, usage_ix, n_classes = load_raw_data()\n",
    "display(data.head(n=10))\n",
    "print (\"\\033[1mThe total number of rows in dataset\\033[0m\\n\")\n",
    "print (data.count())\n",
    "print (\"\\n\\033[1mAll the keywords with their starting index in 'Usage' column\\n\\033[0m\")\n",
    "print (data.drop_duplicates('Usage')['Usage'])\n",
    "\n",
    "print (\"\\nThere are\", n_classes,\"Labels in total for each emotion\")\n",
    "print (data.drop_duplicates('emotion')['emotion'].values)"
   ]
  },
  {
   "cell_type": "markdown",
   "metadata": {},
   "source": [
    "### Dataset Classification"
   ]
  },
  {
   "cell_type": "code",
   "execution_count": 4,
   "metadata": {},
   "outputs": [
    {
     "name": "stdout",
     "output_type": "stream",
     "text": [
      "File 'training_batch_1.csv' is found\n",
      "File 'training_batch_2.csv' is found\n",
      "File 'training_batch_3.csv' is found\n",
      "File 'training_batch_4.csv' is found\n",
      "File 'training_batch_5.csv' is found\n",
      "File 'training_batch_6.csv' is found\n",
      "File 'public_test.csv' is found\n",
      "File 'private_test.csv' is found\n"
     ]
    }
   ],
   "source": [
    "def dataset_clf(data, usage_ix):\n",
    "    \"\"\"Classify the dataset based on the keyword in 'Usage' column, and divide training data into batches.\n",
    "       Finally, save all sub-dataset into csv file.\n",
    "    \n",
    "    Args:\n",
    "       data: DataFrame of raw dataset\n",
    "       usage_ix: A list of index of unique keywords in 'Usage' column\n",
    "    \"\"\"\n",
    "    ix = 0\n",
    "    n_batches = 6    # tunable\n",
    "    batch_size = 5000    # tunable\n",
    "    \n",
    "    # check or save training batches\n",
    "    for batch_i in range(1,n_batches+1):\n",
    "        \n",
    "        batch_file = Path(\"C:/Users/xiaow/Desktop/fer2013/training_batch_\"+str(batch_i)+\".csv\")\n",
    "        if batch_file.is_file():\n",
    "            print(\"File 'training_batch_\"+str(batch_i)+\".csv' is found\")\n",
    "            ix += batch_size\n",
    "            \n",
    "        else:\n",
    "    \n",
    "            if (usage_ix[1]-1)-ix < batch_size:\n",
    "                data.loc[ix : usage_ix[1]-1].to_csv(\"training_batch_\"+str(batch_i)+\".csv\")\n",
    "                print (\"File 'training_batch_\"+str(batch_i)+\".csv' saved successfully\")\n",
    " \n",
    "            else:\n",
    "                data.loc[usage_ix[0] + ix : ix + (batch_size-1)].to_csv(\"training_batch_\"+str(batch_i)+\".csv\")\n",
    "                print (\"File 'training_batch_\"+str(batch_i)+\".csv' saved successfully\")\n",
    "            \n",
    "            ix += batch_size\n",
    "    \n",
    "    # check or save public test\n",
    "    batch_file = Path(\"C:/Users/xiaow/Desktop/fer2013/public_test.csv\")\n",
    "    if batch_file.is_file():\n",
    "        print(\"File 'public_test.csv' is found\")\n",
    "    else:\n",
    "        data.loc[usage_ix[1]:usage_ix[2]-1].to_csv(\"public_test.csv\")    # save public testing data\n",
    "        print (\"File 'public_test.csv' saved successfully\")\n",
    "\n",
    "    # check or save private test\n",
    "    batch_file = Path(\"C:/Users/xiaow/Desktop/fer2013/private_test.csv\")\n",
    "    if batch_file.is_file():\n",
    "        print(\"File 'private_test.csv' is found\")\n",
    "    else:\n",
    "        data.loc[usage_ix[2]:].to_csv(\"private_test.csv\")    # save private testing data\n",
    "        print (\"File 'private_test.csv' saved successfully\")\n",
    "\n",
    "    return n_batches, batch_size\n",
    "\n",
    "#::::::::TEST:::::::#\n",
    "n_batches, batch_size = dataset_clf(data, usage_ix)"
   ]
  },
  {
   "cell_type": "code",
   "execution_count": 5,
   "metadata": {},
   "outputs": [
    {
     "name": "stdout",
     "output_type": "stream",
     "text": [
      "The overview of loaded batch:\n"
     ]
    },
    {
     "data": {
      "text/plain": [
       "Unnamed: 0    5000\n",
       "emotion       5000\n",
       "pixels        5000\n",
       "Usage         5000\n",
       "dtype: int64"
      ]
     },
     "execution_count": 5,
     "metadata": {},
     "output_type": "execute_result"
    }
   ],
   "source": [
    "def load_batches(batch_num):\n",
    "    \n",
    "    data = pd.read_csv(\"training_batch_\"+str(batch_num)+\".csv\")\n",
    "            \n",
    "    return data\n",
    "        \n",
    "#::::::::TEST:::::::#\n",
    "batch_num = 1    # tunable\n",
    "batch_data = load_batches(batch_num)\n",
    "print(\"The overview of loaded batch:\")\n",
    "batch_data.count()"
   ]
  },
  {
   "cell_type": "markdown",
   "metadata": {},
   "source": [
    "### Image_array visualization"
   ]
  },
  {
   "cell_type": "code",
   "execution_count": 6,
   "metadata": {},
   "outputs": [
    {
     "name": "stdout",
     "output_type": "stream",
     "text": [
      "Checking if all training images exist...\n",
      "Checking finished! All images are now available in the path ./Images/\n"
     ]
    }
   ],
   "source": [
    "def training_image_visual(n_batches, batch_size):\n",
    "    \n",
    "    print(\"Checking if all training images exist...\")\n",
    "    for batch_i in range(1,n_batches+1):\n",
    "        \n",
    "        dir_path = \"./Images/Batch\"+str(batch_i)   # check if the directory exists\n",
    "        if os.path.isdir(dir_path):\n",
    "            pass\n",
    "        else:\n",
    "            os.mkdir(dir_path)\n",
    "        \n",
    "        num_files = len(os.listdir(dir_path))    # check if all images exist\n",
    "        if num_files == batch_size:\n",
    "            pass\n",
    "        else:\n",
    "            batch_pixel = load_batches(batch_i)[\"pixels\"]\n",
    "            last_index = batch_pixel.tail(1).index.values[0]\n",
    "            image_path = './Images/Batch'+str(batch_i)+\"/\"\n",
    "\n",
    "            for row_ix in range(last_index+1):\n",
    "                image = batch_pixel.loc[row_ix].split()\n",
    "                image = list(map(int, image))\n",
    "                image = np.array(image).reshape((48,48))\n",
    "                cv2.imwrite(image_path+\"batch_\"+str(batch_i)+\"_\"+str(row_ix)+\".png\", image)\n",
    "\n",
    "    print(\"Checking finished! All images are now available in the path ./Images/\")\n",
    "\n",
    "#::::::::TEST:::::::#\n",
    "training_image_visual(n_batches, batch_size)"
   ]
  },
  {
   "cell_type": "markdown",
   "metadata": {},
   "source": [
    "### Sample Image"
   ]
  },
  {
   "cell_type": "code",
   "execution_count": 7,
   "metadata": {},
   "outputs": [
    {
     "name": "stdout",
     "output_type": "stream",
     "text": [
      "[Image Info]\n",
      "\n",
      "Batch: 1 \n",
      "Example of image 1212 with shape of: (48, 48)\n",
      "Label (Emotion): 3\n",
      "\n",
      "[Pixel Info]\n",
      "\n",
      "First 18 pixels: [155, 153, 154, 153, 154, 154, 154, 154, 153, 153, 154, 154, 154, 161, 115, 66, 64, 67] \n",
      "Max value of pixels: 235 \n",
      "MIn value of pixels: 0\n",
      "Type of each pixel: uint8\n"
     ]
    },
    {
     "data": {
      "image/png": "[encoded data removed]",
      "text/plain": [
       "<matplotlib.figure.Figure at 0x2160009f5f8>"
      ]
     },
     "metadata": {},
     "output_type": "display_data"
    },
    {
     "name": "stdout",
     "output_type": "stream",
     "text": [
      "(48, 48)\n",
      "[[155 153 154 ..., 153 153 155]\n",
      " [154 153 153 ..., 154 155 155]\n",
      " [154 153 153 ..., 154 155 155]\n",
      " ..., \n",
      " [163 169 166 ..., 208 208 183]\n",
      " [164 170 150 ..., 209 152 111]\n",
      " [165 164 142 ..., 133  92 101]]\n",
      "Picture saved?\n",
      " True\n"
     ]
    }
   ],
   "source": [
    "batch_num = 1     # the batch number (tunable)\n",
    "eximg_ix = 1212    # the index of sample image to be displayed (tunable), max # 5000\n",
    "\n",
    "tmp_data = pd.read_csv(\"training_batch_\"+str(batch_num)+\".csv\")\n",
    "image = tmp_data.loc[eximg_ix]['pixels'].split()\n",
    "img = list(map(int, image))\n",
    "image = np.array(img).astype(np.uint8).reshape((48,48))\n",
    "\n",
    "\n",
    "print (\"[Image Info]\\n\")\n",
    "print (\"Batch:\", batch_num, \"\\nExample of image\", eximg_ix, \"with shape of:\", image.shape)\n",
    "sample_emotion = tmp_data.loc[eximg_ix]['emotion']\n",
    "print (\"Label (Emotion):\", sample_emotion)\n",
    "print (\"\\n[Pixel Info]\\n\")\n",
    "print (\"First 18 pixels:\", img[:18], \"\\nMax value of pixels:\", max(img), \"\\nMIn value of pixels:\", min(img))\n",
    "print (\"Type of each pixel:\", image.dtype)\n",
    "plt.imshow(image, cmap='gray')\n",
    "plt.show()\n",
    "print(image.shape)\n",
    "print(image)\n",
    "print(\"Picture saved?\\n\",cv2.imwrite(\"sample.png\", image))"
   ]
  },
  {
   "cell_type": "markdown",
   "metadata": {},
   "source": [
    "## Image Preprocessing"
   ]
  },
  {
   "cell_type": "markdown",
   "metadata": {},
   "source": [
    "### Head Detection"
   ]
  },
  {
   "cell_type": "code",
   "execution_count": 8,
   "metadata": {
    "collapsed": true
   },
   "outputs": [],
   "source": [
    "def biggest_obj(object):\n",
    "\n",
    "        if object is tuple():\n",
    "            return None, None, None, None\n",
    "\n",
    "        biggest_obj = [0]*5    # biggest_obj = [area, x, y, w, h]\n",
    "\n",
    "        for (x, y, w, h) in object:\n",
    "            biggest_obj.append(w*h)\n",
    "            if w*h > biggest_obj[0]:\n",
    "                biggest_obj[0] = w*h\n",
    "                biggest_obj[1:5] = x, y, w, h\n",
    "\n",
    "        return biggest_obj[1:5]"
   ]
  },
  {
   "cell_type": "code",
   "execution_count": 9,
   "metadata": {},
   "outputs": [
    {
     "name": "stdout",
     "output_type": "stream",
     "text": [
      "Head was successfully detected!\n"
     ]
    },
    {
     "data": {
      "image/png": "[encoded data removed]",
      "text/plain": [
       "<matplotlib.figure.Figure at 0x21600403fd0>"
      ]
     },
     "metadata": {},
     "output_type": "display_data"
    }
   ],
   "source": [
    "def detect_head(image):\n",
    "    \n",
    "    init_height, init_width = image.shape[:2]\n",
    "    \n",
    "    face_casc = cv2.CascadeClassifier('haarcascade_frontalface_default.xml')\n",
    "    faces = face_casc.detectMultiScale(image, scaleFactor=1.1, minNeighbors=3)\n",
    "  \n",
    "    x, y, w, h = biggest_obj(faces)\n",
    "    if x is None:\n",
    "        return False, \"Head was not detected.\", image, init_height, init_width\n",
    "    \n",
    "    image = image[y:y+h,x:x+w]\n",
    "    \n",
    "    return True, \"Head was successfully detected!\", image, init_height, init_width\n",
    "\n",
    "#::::::::TEST:::::::#\n",
    "head_bool, comments, image_arr, init_height, init_width = detect_head(image)\n",
    "print(comments)\n",
    "plt.imshow(image_arr, cmap='gray')\n",
    "plt.show()"
   ]
  },
  {
   "cell_type": "code",
   "execution_count": 22,
   "metadata": {
    "collapsed": true
   },
   "outputs": [],
   "source": [
    "def expand_image(image, init_height, init_width):\n",
    "    \n",
    "    height, width = image.shape[:2]\n",
    "\n",
    "    # expand in \"width\" direction\n",
    "    append_width = np.zeros( (height, (init_width - width)//2), dtype=np.int8 )\n",
    "    image = np.append(append_width, image, axis=1)\n",
    "    image = np.append(image, append_width, axis=1)\n",
    "\n",
    "    if image.shape[0]%2 != 0:\n",
    "        image = np.append(image, np.zeros((height,1), dtype=np.int8), axis=1)\n",
    "\n",
    "    # expand in \"height direction\n",
    "    append_height = np.zeros( ((init_height - height)//2, init_width), dtype=np.int8 )\n",
    "    image = np.append(append_height, image, axis=0)\n",
    "    image = np.append(image, append_height, axis=0)\n",
    "\n",
    "    if image.shape[0]%2 != 0:\n",
    "        image = np.append(image, np.zeros((1,init_width), dtype=np.int8), axis=0)\n",
    "        \n",
    "    return image"
   ]
  },
  {
   "cell_type": "code",
   "execution_count": 23,
   "metadata": {},
   "outputs": [
    {
     "name": "stdout",
     "output_type": "stream",
     "text": [
      "The shape of normalized image: (48, 48)\n"
     ]
    },
    {
     "data": {
      "image/png": "[encoded data removed]",
      "text/plain": [
       "<matplotlib.figure.Figure at 0x2160089ef28>"
      ]
     },
     "metadata": {},
     "output_type": "display_data"
    }
   ],
   "source": [
    "def norm_image(image, head_bool, init_height, init_width):\n",
    "    \n",
    "    image = ( image - image.mean() )*(100/255)\n",
    "    image = ( image - image.mean(axis=1).reshape(-1,1) )/ image.std(axis=1).reshape(-1,1)\n",
    "    \n",
    "    if head_bool is True:\n",
    "        image = expand_image(image, init_height, init_width)\n",
    "        return image\n",
    "        \n",
    "    return image\n",
    "\n",
    "#::::::::TEST:::::::#\n",
    "normed_image = norm_image(image_arr, head_bool, init_height, init_width)\n",
    "print(\"The shape of normalized image:\",normed_image.shape)\n",
    "plt.imshow(normed_image, cmap='gray')\n",
    "plt.show()"
   ]
  },
  {
   "cell_type": "markdown",
   "metadata": {},
   "source": [
    "### One Hot Encoding"
   ]
  },
  {
   "cell_type": "code",
   "execution_count": 24,
   "metadata": {},
   "outputs": [
    {
     "name": "stdout",
     "output_type": "stream",
     "text": [
      "[[1 0 0 ..., 0 0 0]\n",
      " [1 0 0 ..., 0 0 0]\n",
      " [0 0 1 ..., 0 0 0]\n",
      " ..., \n",
      " [0 0 0 ..., 0 0 1]\n",
      " [0 0 0 ..., 0 0 1]\n",
      " [0 0 0 ..., 0 0 0]]\n",
      "<class 'numpy.ndarray'> int8\n",
      "The shape of labels_one_hot: (5000, 7)\n"
     ]
    }
   ],
   "source": [
    "def one_hot_encode(data):\n",
    "    \n",
    "    \n",
    "    all_labels = data[\"emotion\"].values.ravel()\n",
    "    num_labels = all_labels.shape[0]\n",
    "    \n",
    "    n_classes = len(data.drop_duplicates('emotion')['emotion'].values)\n",
    "    \n",
    "    index_offset = np.arange(num_labels) * n_classes\n",
    "    labels_one_hot = np.zeros((num_labels, n_classes), dtype=np.int8)\n",
    "    labels_one_hot.flat[index_offset + all_labels] = 1\n",
    "    np.array(labels_one_hot).astype(np.uint8)\n",
    "\n",
    "    return labels_one_hot\n",
    "\n",
    "#::::::::TEST:::::::#\n",
    "tmp_data = load_batches(1)\n",
    "labels_one_hot = one_hot_encode(tmp_data)\n",
    "print(labels_one_hot)\n",
    "print(type(labels_one_hot), labels_one_hot.dtype)\n",
    "print(\"The shape of labels_one_hot:\", labels_one_hot.shape)"
   ]
  },
  {
   "cell_type": "markdown",
   "metadata": {},
   "source": [
    "### Pixel Preprocessing"
   ]
  },
  {
   "cell_type": "code",
   "execution_count": 25,
   "metadata": {},
   "outputs": [
    {
     "name": "stderr",
     "output_type": "stream",
     "text": [
      "c:\\users\\xiaow\\python35\\lib\\site-packages\\ipykernel_launcher.py:4: RuntimeWarning: invalid value encountered in true_divide\n",
      "  after removing the cwd from sys.path.\n"
     ]
    },
    {
     "name": "stdout",
     "output_type": "stream",
     "text": [
      "pixels preprocess was successful with the shape of (5000, 48, 48, 1)\n"
     ]
    }
   ],
   "source": [
    "def pixels_preprocess(data):\n",
    "\n",
    "    last_index = data.tail(1).index.values[0]\n",
    "    for row_ix in range(last_index+1):\n",
    "            \n",
    "        each_image = data.loc[row_ix]['pixels'].split()\n",
    "        each_image = np.array(each_image).astype(np.uint8).reshape((48,48))\n",
    "        \n",
    "        # head detection and image normalization\n",
    "        head_bool, comments, image_arr, init_height, init_width = detect_head(each_image)\n",
    "        normed_image = norm_image(image_arr, head_bool, init_height, init_width)\n",
    "        normed_image = normed_image.reshape((1,-1))\n",
    "        \n",
    "        if row_ix == 0:\n",
    "            preprocessed_pixel = normed_image\n",
    "\n",
    "        else:\n",
    "            preprocessed_pixel = np.append(preprocessed_pixel, normed_image, axis=0)\n",
    "        \n",
    "    return preprocessed_pixel.reshape((-1, 48, 48, 1))\n",
    "\n",
    "#::::::::TEST:::::::#\n",
    "tmp_data = load_batches(1)\n",
    "preprocessed_pixel = pixels_preprocess(tmp_data)\n",
    "print(\"pixels preprocess was successful with the shape of\", preprocessed_pixel.shape)"
   ]
  },
  {
   "cell_type": "markdown",
   "metadata": {},
   "source": [
    "### Dataset Split"
   ]
  },
  {
   "cell_type": "code",
   "execution_count": 26,
   "metadata": {},
   "outputs": [
    {
     "name": "stderr",
     "output_type": "stream",
     "text": [
      "c:\\users\\xiaow\\python35\\lib\\site-packages\\ipykernel_launcher.py:4: RuntimeWarning: invalid value encountered in true_divide\n",
      "  after removing the cwd from sys.path.\n"
     ]
    },
    {
     "name": "stdout",
     "output_type": "stream",
     "text": [
      "The shape of training images: (4500, 48, 48, 1)\n",
      "The shape of validation images: (500, 48, 48, 1)\n",
      "The shape of training labels: (4500, 7)\n",
      "The shape of validation labels: (500, 7)\n"
     ]
    }
   ],
   "source": [
    "def train_valid_split(data):\n",
    "    \n",
    "    images = pixels_preprocess(data)\n",
    "    labels = one_hot_encode(data)\n",
    "\n",
    "    train_image, valid_image, train_label, valid_label = train_test_split(images, labels,\n",
    "                                                                          stratify=labels, \n",
    "                                                                          test_size=0.1, \n",
    "                                                                          random_state = 42)\n",
    "\n",
    "    return train_image, valid_image, train_label, valid_label\n",
    "\n",
    "#::::::::TEST:::::::#\n",
    "batch_data = load_batches(1)\n",
    "train_image, valid_image, train_label, valid_label = train_valid_split(batch_data)\n",
    "\n",
    "print(\"The shape of training images:\", train_image.shape)\n",
    "print(\"The shape of validation images:\", valid_image.shape)\n",
    "print(\"The shape of training labels:\", train_label.shape)\n",
    "print(\"The shape of validation labels:\", valid_label.shape)"
   ]
  },
  {
   "cell_type": "markdown",
   "metadata": {},
   "source": [
    "### Check Point"
   ]
  },
  {
   "cell_type": "code",
   "execution_count": 30,
   "metadata": {},
   "outputs": [
    {
     "name": "stderr",
     "output_type": "stream",
     "text": [
      "c:\\users\\xiaow\\python35\\lib\\site-packages\\ipykernel_launcher.py:4: RuntimeWarning: invalid value encountered in true_divide\n",
      "  after removing the cwd from sys.path.\n"
     ]
    },
    {
     "name": "stdout",
     "output_type": "stream",
     "text": [
      "File 'validation_data.p' was saved successfully\n"
     ]
    }
   ],
   "source": [
    "def train_valid_data_save(n_batches):\n",
    "    \n",
    "    for batch_i in range(1,n_batches+1):\n",
    "        \n",
    "        batch_split_file = Path(\"C:/Users/xiaow/Desktop/fer2013/batch_\"+str(batch_i)+\"_split.p\")\n",
    "        if batch_split_file.is_file():\n",
    "            print(\"File 'batch_\"+str(batch_i)+\"_split.p' is found\")\n",
    "            \n",
    "        else:\n",
    "               \n",
    "            batch_data = load_batches(batch_i)\n",
    "            train_image_i, valid_image_i, train_label_i, valid_label_i = train_valid_split(batch_data)\n",
    "            pickle.dump((train_image_i, train_label_i), open(\"batch_\"+str(batch_i)+\"_training_data.p\", 'wb'))\n",
    "            \n",
    "        if batch_i == 1:\n",
    "            valid_image, valid_label = valid_image_i, valid_label_i\n",
    "\n",
    "        else:\n",
    "            valid_image = np.append(valid_image, valid_image_i, axis=0)\n",
    "            valid_label = np.append(valid_label, valid_label_i, axis=0)\n",
    "        \n",
    "    pickle.dump((valid_image, valid_label), open(\"validation_data.p\", 'wb'))\n",
    "    print(\"File 'validation_data.p' was saved successfully\")\n",
    "        \n",
    "    return None\n",
    "\n",
    "#::::::::TEST::::::#\n",
    "n_batches = 6\n",
    "train_valid_data_save(n_batches)"
   ]
  },
  {
   "cell_type": "code",
   "execution_count": 45,
   "metadata": {
    "collapsed": true
   },
   "outputs": [],
   "source": [
    "valid_images, valid_labels = pickle.load(open(\"validation_data.p\", mode='rb'))"
   ]
  },
  {
   "cell_type": "markdown",
   "metadata": {},
   "source": [
    "## CNN Model"
   ]
  },
  {
   "cell_type": "markdown",
   "metadata": {},
   "source": [
    "### Input Layer"
   ]
  },
  {
   "cell_type": "code",
   "execution_count": 46,
   "metadata": {
    "collapsed": true
   },
   "outputs": [],
   "source": [
    "def nn_image_input(image_shape):\n",
    "    \"\"\"\n",
    "    Return a Tensor for a batch of image input\n",
    "    : image_shape: Shape of the images\n",
    "    : return: Tensor for image input.\n",
    "    \"\"\"\n",
    "    \n",
    "    image_shape = list(image_shape)\n",
    "    return tf.placeholder(tf.float32, shape=[None, image_shape[0], image_shape[1], image_shape[2]], name=\"x\")\n",
    "\n",
    "def nn_label_input(n_classes):\n",
    "    \"\"\"\n",
    "    Return a Tensor for a batch of label input\n",
    "    : n_classes: Number of classes\n",
    "    : return: Tensor for label input.\n",
    "    \"\"\"\n",
    "\n",
    "    return tf.placeholder(tf.float32, shape=[None, n_classes], name=\"y\")\n",
    "\n",
    "def nn_keep_prob_input():\n",
    "    \"\"\"\n",
    "    Return a Tensor for keep probability\n",
    "    : return: Tensor for keep probability.\n",
    "    \"\"\"\n",
    "    \n",
    "    return tf.placeholder(tf.float32, shape=None, name=\"keep_prob\")"
   ]
  },
  {
   "cell_type": "markdown",
   "metadata": {},
   "source": [
    "### Convolution Layer"
   ]
  },
  {
   "cell_type": "code",
   "execution_count": 47,
   "metadata": {
    "collapsed": true
   },
   "outputs": [],
   "source": [
    "def conv2d(x_tensor, conv_num_outputs, conv_ksize, conv_strides, padding):\n",
    "    \"\"\"\n",
    "    Apply convolution then max pooling to x_tensor\n",
    "    :param x_tensor: TensorFlow Tensor\n",
    "    :param conv_num_outputs: Number of outputs for the convolutional layer\n",
    "    :param conv_ksize: kernal size 2-D Tuple for the convolutional layer\n",
    "    :param conv_strides: Stride 2-D Tuple for convolution\n",
    "    :param padding: padding method ('VALID' or 'SAME')\n",
    "    : return: A tensor that represents convolution and max pooling of x_tensor\n",
    "    \"\"\"\n",
    "\n",
    "    batch_size, image_height, image_width, channels = x_tensor.get_shape().as_list()\n",
    "                     \n",
    "    conv_layer = tf.nn.conv2d(x_tensor,\n",
    "                              filter=tf.Variable(tf.truncated_normal(list(conv_ksize)+[channels, conv_num_outputs])),\n",
    "                              strides=[1]+list(conv_strides)+[1],\n",
    "                              padding=padding\n",
    "                              )\n",
    "\n",
    "    conv_layer = tf.nn.bias_add(value=conv_layer,\n",
    "                                bias=tf.Variable(tf.zeros(conv_num_outputs))\n",
    "                                )\n",
    "    \n",
    "    conv_layer = tf.nn.relu(conv_layer)\n",
    "   \n",
    "    return conv_layer"
   ]
  },
  {
   "cell_type": "markdown",
   "metadata": {},
   "source": [
    "### Maxpooling Layer"
   ]
  },
  {
   "cell_type": "code",
   "execution_count": 48,
   "metadata": {
    "collapsed": true
   },
   "outputs": [],
   "source": [
    "def max_pool(x_tensor, pool_ksize, pool_strides, padding):\n",
    "\n",
    "    maxpool_layer = tf.nn.max_pool(x_tensor,\n",
    "                                   ksize=[1]+list(pool_ksize)+[1],\n",
    "                                   strides=[1]+list(pool_strides)+[1],\n",
    "                                   padding=padding\n",
    "                                   )\n",
    "    \n",
    "    return maxpool_layer"
   ]
  },
  {
   "cell_type": "markdown",
   "metadata": {},
   "source": [
    "### Flatten Layer"
   ]
  },
  {
   "cell_type": "code",
   "execution_count": 49,
   "metadata": {
    "collapsed": true
   },
   "outputs": [],
   "source": [
    "def flatten(x_tensor):\n",
    "    \"\"\"\n",
    "    Flatten x_tensor to (Batch Size, Flattened Image Size)\n",
    "    : x_tensor: A tensor of size (Batch Size, ...), where ... are the image dimensions.\n",
    "    : return: A tensor of size (Batch Size, Flattened Image Size).\n",
    "    \"\"\"\n",
    "    # TODO: Implement Function\n",
    "    batch_size, image_height, image_width, channels = x_tensor.get_shape().as_list()\n",
    "    flatten_layer = tf.reshape(x_tensor,\n",
    "                               shape=[-1, image_height*image_width*channels]\n",
    "                               )\n",
    "    \n",
    "    return flatten_layer"
   ]
  },
  {
   "cell_type": "markdown",
   "metadata": {},
   "source": [
    "### Fully-connected Layer"
   ]
  },
  {
   "cell_type": "code",
   "execution_count": 50,
   "metadata": {
    "collapsed": true
   },
   "outputs": [],
   "source": [
    "def fully_conn(x_tensor, num_outputs):\n",
    "    \"\"\"\n",
    "    Apply a fully connected layer to x_tensor using weight and bias\n",
    "    : x_tensor: A 2-D tensor where the first dimension is batch size.\n",
    "    : num_outputs: The number of output that the new tensor should be.\n",
    "    : return: A 2-D tensor where the second dimension is num_outputs.\n",
    "    \"\"\"\n",
    "\n",
    "    batch_size, other = x_tensor.get_shape().as_list()\n",
    "\n",
    "    weight = tf.Variable( tf.truncated_normal(shape = [other, num_outputs]) )\n",
    "    \n",
    "    bias = tf.Variable(tf.zeros(num_outputs))\n",
    "\n",
    "    full_layer = tf.add(tf.matmul(x_tensor, weight), bias)\n",
    "    full_layer = tf.nn.relu(full_layer)\n",
    "    \n",
    "    return full_layer"
   ]
  },
  {
   "cell_type": "markdown",
   "metadata": {},
   "source": [
    "### Output Layer"
   ]
  },
  {
   "cell_type": "code",
   "execution_count": 51,
   "metadata": {
    "collapsed": true
   },
   "outputs": [],
   "source": [
    "def output(x_tensor, num_outputs):\n",
    "    \"\"\"\n",
    "    Apply a output layer to x_tensor using weight and bias\n",
    "    : x_tensor: A 2-D tensor where the first dimension is batch size.\n",
    "    : num_outputs: The number of output that the new tensor should be.\n",
    "    : return: A 2-D tensor where the second dimension is num_outputs.\n",
    "    \"\"\"\n",
    "    # TODO: Implement Function\n",
    "    batch_size, other = x_tensor.get_shape().as_list()\n",
    "\n",
    "    weight = tf.Variable( tf.truncated_normal(shape = [other, num_outputs]) )\n",
    "    \n",
    "    bias = tf.Variable(tf.zeros(num_outputs))\n",
    "       \n",
    "    output_layer = tf.add(tf.matmul(x_tensor, weight), bias)\n",
    "    \n",
    "    return output_layer"
   ]
  },
  {
   "cell_type": "markdown",
   "metadata": {},
   "source": [
    "### CNN Architecture"
   ]
  },
  {
   "cell_type": "code",
   "execution_count": 52,
   "metadata": {
    "collapsed": true
   },
   "outputs": [],
   "source": [
    "def conv_net(x, keep_prob):\n",
    "    \"\"\"\n",
    "    Create a convolutional neural network model\n",
    "    : x: Placeholder tensor that holds image data.\n",
    "    : keep_prob: Placeholder tensor that hold dropout keep probability.\n",
    "    : return: Tensor that represents logits\n",
    "    \"\"\"\n",
    "    \n",
    "    conv_nn = conv2d(x, conv_num_outputs=96, conv_ksize=(5,5), conv_strides=(2,2), padding='SAME')\n",
    "    \n",
    "    conv_nn = max_pool(conv_nn, pool_ksize=(3,3), pool_strides=(2,2), padding='SAME')\n",
    "       \n",
    "    conv_nn = conv2d(conv_nn, conv_num_outputs=128, conv_ksize=(3,3), conv_strides=(2,2), padding='SAME')\n",
    "    \n",
    "    conv_nn = max_pool(conv_nn, pool_ksize=(3,3), pool_strides=(2,2), padding='SAME')\n",
    "    \n",
    "    conv_nn = tf.nn.dropout(conv_nn, keep_prob)\n",
    "    \n",
    "    conv_nn = conv2d(conv_nn, conv_num_outputs=256, conv_ksize=(3,3), conv_strides=(2,2), padding='SAME')\n",
    "\n",
    "    conv_nn = max_pool(conv_nn, pool_ksize=(3,3), pool_strides=(2,2), padding='SAME')                         \n",
    "  \n",
    "    conv_nn = flatten(conv_nn)\n",
    "    \n",
    "    conv_nn = fully_conn(conv_nn, num_outputs = 2000)\n",
    "\n",
    "    conv_nn = fully_conn(conv_nn, num_outputs = 2000)\n",
    "    \n",
    "    conv_nn = output(conv_nn, num_outputs = 7)\n",
    "    \n",
    "    return conv_nn"
   ]
  },
  {
   "cell_type": "code",
   "execution_count": 53,
   "metadata": {
    "collapsed": true
   },
   "outputs": [],
   "source": [
    "import problem_unittests as tests"
   ]
  },
  {
   "cell_type": "code",
   "execution_count": 71,
   "metadata": {},
   "outputs": [
    {
     "name": "stdout",
     "output_type": "stream",
     "text": [
      "Tensor(\"Mean:0\", shape=(), dtype=float32)\n"
     ]
    }
   ],
   "source": [
    "# Remove previous weights, bias, inputs, etc..\n",
    "tf.reset_default_graph()\n",
    "\n",
    "# Inputs\n",
    "x = nn_image_input((48,48,1))\n",
    "y = nn_label_input(7)\n",
    "keep_prob = nn_keep_prob_input()\n",
    "\n",
    "# Model\n",
    "logits = conv_net(x, keep_prob)\n",
    "\n",
    "# Name logits Tensor, so that is can be loaded from disk after training\n",
    "logits = tf.identity(logits, name='logits')\n",
    "\n",
    "# Loss and Optimizer\n",
    "cost = tf.reduce_mean(tf.nn.softmax_cross_entropy_with_logits(logits=logits, labels=y))\n",
    "print(cost)\n",
    "optimizer = tf.train.AdamOptimizer().minimize(cost)\n",
    "\n",
    "# Accuracy\n",
    "correct_pred = tf.equal(tf.argmax(logits, 1), tf.argmax(y, 1))\n",
    "accuracy = tf.reduce_mean(tf.cast(correct_pred, tf.float32), name='accuracy')"
   ]
  },
  {
   "cell_type": "markdown",
   "metadata": {},
   "source": [
    "## Train the CNN Model"
   ]
  },
  {
   "cell_type": "markdown",
   "metadata": {},
   "source": [
    "### Single Optimization"
   ]
  },
  {
   "cell_type": "code",
   "execution_count": 68,
   "metadata": {
    "collapsed": true
   },
   "outputs": [],
   "source": [
    "def train_neural_network(session, optimizer, keep_probability, train_images, train_labels):\n",
    "    \"\"\"\n",
    "    Optimize the session on a batch of images and labels\n",
    "    : session: Current TensorFlow session\n",
    "    : optimizer: TensorFlow optimizer function\n",
    "    : keep_probability: keep probability\n",
    "    : train_images: Batch of Numpy image data\n",
    "    : train_labels: Batch of Numpy label data\n",
    "    \"\"\"\n",
    "\n",
    "    session.run(optimizer, feed_dict={x:train_images, y:train_labels, keep_prob:keep_probability})\n",
    "\n",
    "    return None"
   ]
  },
  {
   "cell_type": "markdown",
   "metadata": {},
   "source": [
    "### Show Stats"
   ]
  },
  {
   "cell_type": "code",
   "execution_count": 69,
   "metadata": {
    "collapsed": true
   },
   "outputs": [],
   "source": [
    "def print_stats(session, train_images, train_labels, cost, accuracy):\n",
    "    \"\"\"\n",
    "    Print information about loss and validation accuracy\n",
    "    : session: Current TensorFlow session\n",
    "    : train_images: Batch of Numpy image data\n",
    "    : train_labels: Batch of Numpy label data\n",
    "    : cost: TensorFlow cost function\n",
    "    : accuracy: TensorFlow accuracy function\n",
    "    \"\"\"\n",
    "\n",
    "    loss = session.run(cost, feed_dict={x:train_images, y:train_labels, keep_prob:1.0})\n",
    "    print(cost,\"cost\")\n",
    "    valid_accuracy = sess.run(accuracy, feed_dict={\n",
    "                x: valid_images,\n",
    "                y: valid_labels,\n",
    "                keep_prob: 1.0})\n",
    "    print('Loss: {:>10.4f} Validation Accuracy: {:.6f}'.format(loss, valid_accuracy))\n",
    "    \n",
    "    return None"
   ]
  },
  {
   "cell_type": "markdown",
   "metadata": {},
   "source": [
    "### Train on a single batch"
   ]
  },
  {
   "cell_type": "code",
   "execution_count": 70,
   "metadata": {},
   "outputs": [
    {
     "name": "stdout",
     "output_type": "stream",
     "text": [
      "Checking the Training on a Single Batch...\n",
      "Epoch  1, Batch 1:  Tensor(\"Mean:0\", shape=(), dtype=float32) cost\n",
      "Loss:        nan Validation Accuracy: 0.136886\n",
      "Epoch  2, Batch 1:  Tensor(\"Mean:0\", shape=(), dtype=float32) cost\n",
      "Loss:        nan Validation Accuracy: 0.136886\n",
      "Epoch  3, Batch 1:  "
     ]
    },
    {
     "ename": "KeyboardInterrupt",
     "evalue": "",
     "output_type": "error",
     "traceback": [
      "\u001b[1;31m---------------------------------------------------------------------------\u001b[0m",
      "\u001b[1;31mKeyboardInterrupt\u001b[0m                         Traceback (most recent call last)",
      "\u001b[1;32m<ipython-input-70-24d4d9e05ced>\u001b[0m in \u001b[0;36m<module>\u001b[1;34m()\u001b[0m\n\u001b[0;32m     28\u001b[0m \u001b[1;33m\u001b[0m\u001b[0m\n\u001b[0;32m     29\u001b[0m         \u001b[0mprint\u001b[0m\u001b[1;33m(\u001b[0m\u001b[1;34m'Epoch {:>2}, Batch {}:  '\u001b[0m\u001b[1;33m.\u001b[0m\u001b[0mformat\u001b[0m\u001b[1;33m(\u001b[0m\u001b[0mepoch\u001b[0m \u001b[1;33m+\u001b[0m \u001b[1;36m1\u001b[0m\u001b[1;33m,\u001b[0m \u001b[0mbatch_i\u001b[0m\u001b[1;33m)\u001b[0m\u001b[1;33m,\u001b[0m \u001b[0mend\u001b[0m\u001b[1;33m=\u001b[0m\u001b[1;34m''\u001b[0m\u001b[1;33m)\u001b[0m\u001b[1;33m\u001b[0m\u001b[0m\n\u001b[1;32m---> 30\u001b[1;33m         \u001b[0mprint_stats\u001b[0m\u001b[1;33m(\u001b[0m\u001b[0msess\u001b[0m\u001b[1;33m,\u001b[0m \u001b[0mtrain_images\u001b[0m\u001b[1;33m,\u001b[0m \u001b[0mtrain_labels\u001b[0m\u001b[1;33m,\u001b[0m \u001b[0mcost\u001b[0m\u001b[1;33m,\u001b[0m \u001b[0maccuracy\u001b[0m\u001b[1;33m)\u001b[0m\u001b[1;33m\u001b[0m\u001b[0m\n\u001b[0m",
      "\u001b[1;32m<ipython-input-69-9fe8c62658f0>\u001b[0m in \u001b[0;36mprint_stats\u001b[1;34m(session, train_images, train_labels, cost, accuracy)\u001b[0m\n\u001b[0;32m      9\u001b[0m     \"\"\"\n\u001b[0;32m     10\u001b[0m \u001b[1;33m\u001b[0m\u001b[0m\n\u001b[1;32m---> 11\u001b[1;33m     \u001b[0mloss\u001b[0m \u001b[1;33m=\u001b[0m \u001b[0msession\u001b[0m\u001b[1;33m.\u001b[0m\u001b[0mrun\u001b[0m\u001b[1;33m(\u001b[0m\u001b[0mcost\u001b[0m\u001b[1;33m,\u001b[0m \u001b[0mfeed_dict\u001b[0m\u001b[1;33m=\u001b[0m\u001b[1;33m{\u001b[0m\u001b[0mx\u001b[0m\u001b[1;33m:\u001b[0m\u001b[0mtrain_images\u001b[0m\u001b[1;33m,\u001b[0m \u001b[0my\u001b[0m\u001b[1;33m:\u001b[0m\u001b[0mtrain_labels\u001b[0m\u001b[1;33m,\u001b[0m \u001b[0mkeep_prob\u001b[0m\u001b[1;33m:\u001b[0m\u001b[1;36m1.0\u001b[0m\u001b[1;33m}\u001b[0m\u001b[1;33m)\u001b[0m\u001b[1;33m\u001b[0m\u001b[0m\n\u001b[0m\u001b[0;32m     12\u001b[0m     \u001b[0mprint\u001b[0m\u001b[1;33m(\u001b[0m\u001b[0mcost\u001b[0m\u001b[1;33m,\u001b[0m\u001b[1;34m\"cost\"\u001b[0m\u001b[1;33m)\u001b[0m\u001b[1;33m\u001b[0m\u001b[0m\n\u001b[0;32m     13\u001b[0m     valid_accuracy = sess.run(accuracy, feed_dict={\n",
      "\u001b[1;32mc:\\users\\xiaow\\python35\\lib\\site-packages\\tensorflow\\python\\client\\session.py\u001b[0m in \u001b[0;36mrun\u001b[1;34m(self, fetches, feed_dict, options, run_metadata)\u001b[0m\n\u001b[0;32m    776\u001b[0m     \u001b[1;32mtry\u001b[0m\u001b[1;33m:\u001b[0m\u001b[1;33m\u001b[0m\u001b[0m\n\u001b[0;32m    777\u001b[0m       result = self._run(None, fetches, feed_dict, options_ptr,\n\u001b[1;32m--> 778\u001b[1;33m                          run_metadata_ptr)\n\u001b[0m\u001b[0;32m    779\u001b[0m       \u001b[1;32mif\u001b[0m \u001b[0mrun_metadata\u001b[0m\u001b[1;33m:\u001b[0m\u001b[1;33m\u001b[0m\u001b[0m\n\u001b[0;32m    780\u001b[0m         \u001b[0mproto_data\u001b[0m \u001b[1;33m=\u001b[0m \u001b[0mtf_session\u001b[0m\u001b[1;33m.\u001b[0m\u001b[0mTF_GetBuffer\u001b[0m\u001b[1;33m(\u001b[0m\u001b[0mrun_metadata_ptr\u001b[0m\u001b[1;33m)\u001b[0m\u001b[1;33m\u001b[0m\u001b[0m\n",
      "\u001b[1;32mc:\\users\\xiaow\\python35\\lib\\site-packages\\tensorflow\\python\\client\\session.py\u001b[0m in \u001b[0;36m_run\u001b[1;34m(self, handle, fetches, feed_dict, options, run_metadata)\u001b[0m\n\u001b[0;32m    980\u001b[0m     \u001b[1;32mif\u001b[0m \u001b[0mfinal_fetches\u001b[0m \u001b[1;32mor\u001b[0m \u001b[0mfinal_targets\u001b[0m\u001b[1;33m:\u001b[0m\u001b[1;33m\u001b[0m\u001b[0m\n\u001b[0;32m    981\u001b[0m       results = self._do_run(handle, final_targets, final_fetches,\n\u001b[1;32m--> 982\u001b[1;33m                              feed_dict_string, options, run_metadata)\n\u001b[0m\u001b[0;32m    983\u001b[0m     \u001b[1;32melse\u001b[0m\u001b[1;33m:\u001b[0m\u001b[1;33m\u001b[0m\u001b[0m\n\u001b[0;32m    984\u001b[0m       \u001b[0mresults\u001b[0m \u001b[1;33m=\u001b[0m \u001b[1;33m[\u001b[0m\u001b[1;33m]\u001b[0m\u001b[1;33m\u001b[0m\u001b[0m\n",
      "\u001b[1;32mc:\\users\\xiaow\\python35\\lib\\site-packages\\tensorflow\\python\\client\\session.py\u001b[0m in \u001b[0;36m_do_run\u001b[1;34m(self, handle, target_list, fetch_list, feed_dict, options, run_metadata)\u001b[0m\n\u001b[0;32m   1030\u001b[0m     \u001b[1;32mif\u001b[0m \u001b[0mhandle\u001b[0m \u001b[1;32mis\u001b[0m \u001b[1;32mNone\u001b[0m\u001b[1;33m:\u001b[0m\u001b[1;33m\u001b[0m\u001b[0m\n\u001b[0;32m   1031\u001b[0m       return self._do_call(_run_fn, self._session, feed_dict, fetch_list,\n\u001b[1;32m-> 1032\u001b[1;33m                            target_list, options, run_metadata)\n\u001b[0m\u001b[0;32m   1033\u001b[0m     \u001b[1;32melse\u001b[0m\u001b[1;33m:\u001b[0m\u001b[1;33m\u001b[0m\u001b[0m\n\u001b[0;32m   1034\u001b[0m       return self._do_call(_prun_fn, self._session, handle, feed_dict,\n",
      "\u001b[1;32mc:\\users\\xiaow\\python35\\lib\\site-packages\\tensorflow\\python\\client\\session.py\u001b[0m in \u001b[0;36m_do_call\u001b[1;34m(self, fn, *args)\u001b[0m\n\u001b[0;32m   1037\u001b[0m   \u001b[1;32mdef\u001b[0m \u001b[0m_do_call\u001b[0m\u001b[1;33m(\u001b[0m\u001b[0mself\u001b[0m\u001b[1;33m,\u001b[0m \u001b[0mfn\u001b[0m\u001b[1;33m,\u001b[0m \u001b[1;33m*\u001b[0m\u001b[0margs\u001b[0m\u001b[1;33m)\u001b[0m\u001b[1;33m:\u001b[0m\u001b[1;33m\u001b[0m\u001b[0m\n\u001b[0;32m   1038\u001b[0m     \u001b[1;32mtry\u001b[0m\u001b[1;33m:\u001b[0m\u001b[1;33m\u001b[0m\u001b[0m\n\u001b[1;32m-> 1039\u001b[1;33m       \u001b[1;32mreturn\u001b[0m \u001b[0mfn\u001b[0m\u001b[1;33m(\u001b[0m\u001b[1;33m*\u001b[0m\u001b[0margs\u001b[0m\u001b[1;33m)\u001b[0m\u001b[1;33m\u001b[0m\u001b[0m\n\u001b[0m\u001b[0;32m   1040\u001b[0m     \u001b[1;32mexcept\u001b[0m \u001b[0merrors\u001b[0m\u001b[1;33m.\u001b[0m\u001b[0mOpError\u001b[0m \u001b[1;32mas\u001b[0m \u001b[0me\u001b[0m\u001b[1;33m:\u001b[0m\u001b[1;33m\u001b[0m\u001b[0m\n\u001b[0;32m   1041\u001b[0m       \u001b[0mmessage\u001b[0m \u001b[1;33m=\u001b[0m \u001b[0mcompat\u001b[0m\u001b[1;33m.\u001b[0m\u001b[0mas_text\u001b[0m\u001b[1;33m(\u001b[0m\u001b[0me\u001b[0m\u001b[1;33m.\u001b[0m\u001b[0mmessage\u001b[0m\u001b[1;33m)\u001b[0m\u001b[1;33m\u001b[0m\u001b[0m\n",
      "\u001b[1;32mc:\\users\\xiaow\\python35\\lib\\site-packages\\tensorflow\\python\\client\\session.py\u001b[0m in \u001b[0;36m_run_fn\u001b[1;34m(session, feed_dict, fetch_list, target_list, options, run_metadata)\u001b[0m\n\u001b[0;32m   1019\u001b[0m         return tf_session.TF_Run(session, options,\n\u001b[0;32m   1020\u001b[0m                                  \u001b[0mfeed_dict\u001b[0m\u001b[1;33m,\u001b[0m \u001b[0mfetch_list\u001b[0m\u001b[1;33m,\u001b[0m \u001b[0mtarget_list\u001b[0m\u001b[1;33m,\u001b[0m\u001b[1;33m\u001b[0m\u001b[0m\n\u001b[1;32m-> 1021\u001b[1;33m                                  status, run_metadata)\n\u001b[0m\u001b[0;32m   1022\u001b[0m \u001b[1;33m\u001b[0m\u001b[0m\n\u001b[0;32m   1023\u001b[0m     \u001b[1;32mdef\u001b[0m \u001b[0m_prun_fn\u001b[0m\u001b[1;33m(\u001b[0m\u001b[0msession\u001b[0m\u001b[1;33m,\u001b[0m \u001b[0mhandle\u001b[0m\u001b[1;33m,\u001b[0m \u001b[0mfeed_dict\u001b[0m\u001b[1;33m,\u001b[0m \u001b[0mfetch_list\u001b[0m\u001b[1;33m)\u001b[0m\u001b[1;33m:\u001b[0m\u001b[1;33m\u001b[0m\u001b[0m\n",
      "\u001b[1;31mKeyboardInterrupt\u001b[0m: "
     ]
    }
   ],
   "source": [
    "print('Checking the Training on a Single Batch...')\n",
    "\n",
    "batch_i = 1\n",
    "batch_step = 128\n",
    "epochs = 60\n",
    "keep_probability = 0.8\n",
    "\n",
    "\n",
    "\n",
    "with tf.Session() as sess:\n",
    "    \n",
    "    # Initializing the variables\n",
    "    sess.run(tf.global_variables_initializer())\n",
    "    \n",
    "    # Training cycle\n",
    "    count = 0\n",
    "    train_images, train_labels = pickle.load(open(\"batch_\"+str(batch_i)+\"_training_data.p\", mode='rb'))\n",
    "    \n",
    "    for epoch in range(epochs):\n",
    "\n",
    "        for step in range(len(train_images)//batch_step + 1):\n",
    "            train_neural_network(sess, optimizer, keep_probability, \n",
    "                                 train_images[count:count+batch_step], train_labels[count:count+batch_step])\n",
    "            if count+batch_step > len(train_images):\n",
    "                count += len(train_images)-count\n",
    "            else:\n",
    "                count += batch_step\n",
    "\n",
    "        print('Epoch {:>2}, Batch {}:  '.format(epoch + 1, batch_i), end='')\n",
    "        print_stats(sess, train_images, train_labels, cost, accuracy)"
   ]
  },
  {
   "cell_type": "code",
   "execution_count": null,
   "metadata": {
    "collapsed": true
   },
   "outputs": [],
   "source": []
  },
  {
   "cell_type": "code",
   "execution_count": null,
   "metadata": {
    "collapsed": true
   },
   "outputs": [],
   "source": []
  }
 ],
 "metadata": {
  "kernelspec": {
   "display_name": "Python 3",
   "language": "python",
   "name": "python3"
  },
  "language_info": {
   "codemirror_mode": {
    "name": "ipython",
    "version": 3
   },
   "file_extension": ".py",
   "mimetype": "text/x-python",
   "name": "python",
   "nbconvert_exporter": "python",
   "pygments_lexer": "ipython3",
   "version": "3.5.3"
  }
 },
 "nbformat": 4,
 "nbformat_minor": 2
}
