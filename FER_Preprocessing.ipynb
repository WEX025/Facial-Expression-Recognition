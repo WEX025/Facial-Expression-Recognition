{
 "cells": [
  {
   "cell_type": "markdown",
   "metadata": {},
   "source": [
    "# Kaggle Competition: Facial Expression Recognition"
   ]
  },
  {
   "cell_type": "markdown",
   "metadata": {},
   "source": [
    "https://www.kaggle.com/c/challenges-in-representation-learning-facial-expression-recognition-challenge"
   ]
  },
  {
   "cell_type": "markdown",
   "metadata": {},
   "source": [
    "## Data Exploration"
   ]
  },
  {
   "cell_type": "markdown",
   "metadata": {},
   "source": [
    "### Overview of Dataset"
   ]
  },
  {
   "cell_type": "code",
   "execution_count": 1,
   "metadata": {
    "collapsed": false
   },
   "outputs": [
    {
     "data": {
      "text/html": [
       "<div>\n",
       "<table border=\"1\" class=\"dataframe\">\n",
       "  <thead>\n",
       "    <tr style=\"text-align: right;\">\n",
       "      <th></th>\n",
       "      <th>emotion</th>\n",
       "      <th>pixels</th>\n",
       "      <th>Usage</th>\n",
       "    </tr>\n",
       "  </thead>\n",
       "  <tbody>\n",
       "    <tr>\n",
       "      <th>0</th>\n",
       "      <td>0</td>\n",
       "      <td>70 80 82 72 58 58 60 63 54 58 60 48 89 115 121...</td>\n",
       "      <td>Training</td>\n",
       "    </tr>\n",
       "    <tr>\n",
       "      <th>1</th>\n",
       "      <td>0</td>\n",
       "      <td>151 150 147 155 148 133 111 140 170 174 182 15...</td>\n",
       "      <td>Training</td>\n",
       "    </tr>\n",
       "    <tr>\n",
       "      <th>2</th>\n",
       "      <td>2</td>\n",
       "      <td>231 212 156 164 174 138 161 173 182 200 106 38...</td>\n",
       "      <td>Training</td>\n",
       "    </tr>\n",
       "    <tr>\n",
       "      <th>3</th>\n",
       "      <td>4</td>\n",
       "      <td>24 32 36 30 32 23 19 20 30 41 21 22 32 34 21 1...</td>\n",
       "      <td>Training</td>\n",
       "    </tr>\n",
       "    <tr>\n",
       "      <th>4</th>\n",
       "      <td>6</td>\n",
       "      <td>4 0 0 0 0 0 0 0 0 0 0 0 3 15 23 28 48 50 58 84...</td>\n",
       "      <td>Training</td>\n",
       "    </tr>\n",
       "    <tr>\n",
       "      <th>5</th>\n",
       "      <td>2</td>\n",
       "      <td>55 55 55 55 55 54 60 68 54 85 151 163 170 179 ...</td>\n",
       "      <td>Training</td>\n",
       "    </tr>\n",
       "    <tr>\n",
       "      <th>6</th>\n",
       "      <td>4</td>\n",
       "      <td>20 17 19 21 25 38 42 42 46 54 56 62 63 66 82 1...</td>\n",
       "      <td>Training</td>\n",
       "    </tr>\n",
       "    <tr>\n",
       "      <th>7</th>\n",
       "      <td>3</td>\n",
       "      <td>77 78 79 79 78 75 60 55 47 48 58 73 77 79 57 5...</td>\n",
       "      <td>Training</td>\n",
       "    </tr>\n",
       "    <tr>\n",
       "      <th>8</th>\n",
       "      <td>3</td>\n",
       "      <td>85 84 90 121 101 102 133 153 153 169 177 189 1...</td>\n",
       "      <td>Training</td>\n",
       "    </tr>\n",
       "    <tr>\n",
       "      <th>9</th>\n",
       "      <td>2</td>\n",
       "      <td>255 254 255 254 254 179 122 107 95 124 149 150...</td>\n",
       "      <td>Training</td>\n",
       "    </tr>\n",
       "  </tbody>\n",
       "</table>\n",
       "</div>"
      ],
      "text/plain": [
       "   emotion                                             pixels     Usage\n",
       "0        0  70 80 82 72 58 58 60 63 54 58 60 48 89 115 121...  Training\n",
       "1        0  151 150 147 155 148 133 111 140 170 174 182 15...  Training\n",
       "2        2  231 212 156 164 174 138 161 173 182 200 106 38...  Training\n",
       "3        4  24 32 36 30 32 23 19 20 30 41 21 22 32 34 21 1...  Training\n",
       "4        6  4 0 0 0 0 0 0 0 0 0 0 0 3 15 23 28 48 50 58 84...  Training\n",
       "5        2  55 55 55 55 55 54 60 68 54 85 151 163 170 179 ...  Training\n",
       "6        4  20 17 19 21 25 38 42 42 46 54 56 62 63 66 82 1...  Training\n",
       "7        3  77 78 79 79 78 75 60 55 47 48 58 73 77 79 57 5...  Training\n",
       "8        3  85 84 90 121 101 102 133 153 153 169 177 189 1...  Training\n",
       "9        2  255 254 255 254 254 179 122 107 95 124 149 150...  Training"
      ]
     },
     "metadata": {},
     "output_type": "display_data"
    }
   ],
   "source": [
    "import pandas as pd\n",
    "import numpy as np\n",
    "import cv2\n",
    "from IPython.display import display\n",
    "import matplotlib.pyplot as plt\n",
    "\n",
    "data = pd.read_csv(\"fer2013.csv\")\n",
    "display(data.head(n=10))"
   ]
  },
  {
   "cell_type": "code",
   "execution_count": 39,
   "metadata": {
    "collapsed": false
   },
   "outputs": [
    {
     "name": "stdout",
     "output_type": "stream",
     "text": [
      "\u001b[1mThe total number of rows in dataset\u001b[0m\n",
      "\n",
      "emotion    35887\n",
      "pixels     35887\n",
      "Usage      35887\n",
      "dtype: int64\n",
      "\n",
      "\u001b[1mAll the keywords with their starting index in 'Usage' column\u001b[0m\n",
      "0           Training\n",
      "28709     PublicTest\n",
      "32298    PrivateTest\n",
      "Name: Usage, dtype: object\n",
      "\n",
      "There are 7 Labels in total for each emotion\n",
      "[0 2 4 6 3 5 1]\n"
     ]
    }
   ],
   "source": [
    "print (\"\\033[1mThe total number of rows in dataset\\033[0m\\n\")\n",
    "print (data.count())\n",
    "\n",
    "print (\"\\n\\033[1mAll the keywords with their starting index in 'Usage' column\\033[0m\")\n",
    "usage_ix = data.drop_duplicates('Usage')['Usage']\n",
    "print (data.drop_duplicates('Usage')['Usage'])\n",
    "usage_ix = usage_ix.index\n",
    "\n",
    "print (\"\\nThere are\", len(data.drop_duplicates('emotion')['emotion'].values),\"Labels in total for each emotion\")\n",
    "print (data.drop_duplicates('emotion')['emotion'].values)"
   ]
  },
  {
   "cell_type": "markdown",
   "metadata": {},
   "source": [
    "### Dataset Classification"
   ]
  },
  {
   "cell_type": "code",
   "execution_count": 40,
   "metadata": {
    "collapsed": false
   },
   "outputs": [
    {
     "name": "stdout",
     "output_type": "stream",
     "text": [
      "File 'training_batch_1.csv' saved successfully\n",
      "File 'training_batch_2.csv' saved successfully\n",
      "File 'training_batch_3.csv' saved successfully\n",
      "File 'training_batch_4.csv' saved successfully\n",
      "File 'training_batch_5.csv' saved successfully\n",
      "File 'training_batch_6.csv' saved successfully\n",
      "File 'public_test.csv' saved successfully\n",
      "File 'private_test.csv' saved successfully\n"
     ]
    }
   ],
   "source": [
    "def dataset_clf(data, usage_ix):\n",
    "    \"\"\"Classify the dataset based on the keyword in 'Usage' column, and divide training data into batches.\n",
    "       Finally, save all sub-dataset into csv file.\n",
    "    \n",
    "    Args:\n",
    "       data: DataFrame of raw dataset\n",
    "       usage_ix: A list of index of unique keywords in 'Usage' column\n",
    "    \"\"\"\n",
    "    ix = 0\n",
    "    n_batches = 6    # tunable\n",
    "    batch_size = 5000    # tunable\n",
    "\n",
    "    for batch_i in range(1,n_batches+1):    # divide and save training data into 6 batches\n",
    "        \n",
    "        if (usage_ix[1]-1)-ix < batch_size:\n",
    "            data.loc[ix : usage_ix[1]-1].to_csv(\"training_batch_\"+str(batch_i)+\".csv\")\n",
    "            print (\"File 'training_batch_\"+str(batch_i)+\".csv' saved successfully\")\n",
    " \n",
    "        else:\n",
    "            data.loc[usage_ix[0] + ix : ix + (batch_size-1)].to_csv(\"training_batch_\"+str(batch_i)+\".csv\")\n",
    "            print (\"File 'training_batch_\"+str(batch_i)+\".csv' saved successfully\")\n",
    "            \n",
    "        ix += batch_size\n",
    "\n",
    "    data.loc[usage_ix[1]:usage_ix[2]-1].to_csv(\"public_test.csv\")    # save public testing data\n",
    "    print (\"File 'public_test.csv' saved successfully\")\n",
    "\n",
    "    data.loc[usage_ix[2]:].to_csv(\"private_test.csv\")    # save private testing data\n",
    "    print (\"File 'private_test.csv' saved successfully\")\n",
    "\n",
    "    return None\n",
    "\n",
    "dataset_clf(data, usage_ix)"
   ]
  },
  {
   "cell_type": "markdown",
   "metadata": {},
   "source": [
    "### Sample Image"
   ]
  },
  {
   "cell_type": "code",
   "execution_count": 100,
   "metadata": {
    "collapsed": false
   },
   "outputs": [
    {
     "name": "stdout",
     "output_type": "stream",
     "text": [
      "[Image Info]\n",
      "\n",
      "Batch: 1 \n",
      "Example of image 1212 with shape of: (48, 48)\n",
      "Label (Emotion): 3\n",
      "\n",
      "[Pixel Info]\n",
      "\n",
      "First 18 pixels: [155, 153, 154, 153, 154, 154, 154, 154, 153, 153, 154, 154, 154, 161, 115, 66, 64, 67] \n",
      "Max value of pixels: 235 \n",
      "MIn value of pixels: 0\n"
     ]
    },
    {
     "data": {
      "image/png": "[encoded data removed]",
      "text/plain": [
       "<matplotlib.figure.Figure at 0x1efbfe35a90>"
      ]
     },
     "metadata": {},
     "output_type": "display_data"
    },
    {
     "name": "stdout",
     "output_type": "stream",
     "text": [
      "Picture saved?\n",
      " True\n"
     ]
    }
   ],
   "source": [
    "batch_num = 1     # the batch number (tunable)\n",
    "eximg_ix = 1212    # the index of sample image to be displayed (tunable), max # 5000\n",
    "\n",
    "tmp_data = pd.read_csv(\"training_batch_\"+str(batch_num)+\".csv\")\n",
    "image = tmp_data.loc[eximg_ix]['pixels'].split()\n",
    "img = list(map(int, image))\n",
    "image = np.array(img).reshape((48,48))\n",
    "\n",
    "\n",
    "print (\"[Image Info]\\n\")\n",
    "print (\"Batch:\", batch_num, \"\\nExample of image\", eximg_ix, \"with shape of:\", image.shape)\n",
    "print (\"Label (Emotion):\", tmp_data.loc[eximg_ix]['emotion'])\n",
    "print (\"\\n[Pixel Info]\\n\")\n",
    "print (\"First 18 pixels:\", img[:18], \"\\nMax value of pixels:\", max(img), \"\\nMIn value of pixels:\", min(img))\n",
    "plt.imshow(image, cmap='gray')\n",
    "plt.show()\n",
    "\n",
    "print(\"Picture saved?\\n\",cv2.imwrite(\"tmp.png\", image))"
   ]
  },
  {
   "cell_type": "code",
   "execution_count": 101,
   "metadata": {
    "collapsed": true
   },
   "outputs": [],
   "source": [
    "def biggest_obj(object):\n",
    "\n",
    "        if object is tuple():\n",
    "            return None, None, None, None\n",
    "\n",
    "        biggest_obj = [0]*5    # biggest_obj = [area, x, y, w, h]\n",
    "\n",
    "        for (x, y, w, h) in object:\n",
    "            biggest_obj.append(w*h)\n",
    "            if w*h > biggest_obj[0]:\n",
    "                biggest_obj[0] = w*h\n",
    "                biggest_obj[1:5] = x, y, w, h\n",
    "\n",
    "        return biggest_obj[1:5]"
   ]
  },
  {
   "cell_type": "code",
   "execution_count": 102,
   "metadata": {
    "collapsed": false
   },
   "outputs": [
    {
     "name": "stdout",
     "output_type": "stream",
     "text": [
      "[[0 0 0 ..., 0 0 0]\n",
      " [0 0 0 ..., 0 0 0]\n",
      " [0 0 0 ..., 0 0 0]\n",
      " ..., \n",
      " [0 0 0 ..., 0 0 0]\n",
      " [0 0 0 ..., 0 0 0]\n",
      " [0 0 0 ..., 0 0 0]] <class 'numpy.ndarray'>\n"
     ]
    },
    {
     "data": {
      "image/png": "[encoded data removed]",
      "text/plain": [
       "<matplotlib.figure.Figure at 0x1efc00266d8>"
      ]
     },
     "metadata": {},
     "output_type": "display_data"
    }
   ],
   "source": [
    "def detect_head():\n",
    "    \n",
    "    image = cv2.imread('tmp.png', cv2.CV_8UC1)\n",
    "    height, width = image.shape[:2]\n",
    "    \n",
    "    face_casc = cv2.CascadeClassifier('haarcascade_frontalface_default.xml')\n",
    "    faces = face_casc.detectMultiScale(image, scaleFactor=1.1, minNeighbors=3)\n",
    "    if faces is tuple():\n",
    "        return False, \"Head was not detected\", image, (0, 0)\n",
    "  \n",
    "    biggest_obj = [0]*5    # biggest_obj = [area, x, y, w, h]\n",
    "    for (x, y, w, h) in faces:\n",
    "        biggest_obj.append(w*h)\n",
    "        if w*h > biggest_obj[0]:\n",
    "            biggest_obj[0] = w*h\n",
    "            biggest_obj[1:5] = x, y, w, h    # assume the head is the biggest detected object\n",
    "    x, y, w, h = biggest_obj[1:5]\n",
    "    \n",
    "    image[:,0:x] = 0\n",
    "    image[0:y,:] = 0\n",
    "    image[y+h:height,:] = 0\n",
    "    image[:,x+w:width] = 0\n",
    "    \n",
    "    print (image, type(image))\n",
    "    plt.imshow(image, cmap='gray')\n",
    "    plt.show()\n",
    "    \n",
    "    return True, \" \", head, (x, y)\n",
    "\n",
    "head_bool, comments, head, (x, y) = detect_head()\n",
    "if head_bool is False:\n",
    "    print(comments)"
   ]
  },
  {
   "cell_type": "code",
   "execution_count": null,
   "metadata": {
    "collapsed": true
   },
   "outputs": [],
   "source": []
  }
 ],
 "metadata": {
  "kernelspec": {
   "display_name": "Python 3",
   "language": "python",
   "name": "python3"
  },
  "language_info": {
   "codemirror_mode": {
    "name": "ipython",
    "version": 3
   },
   "file_extension": ".py",
   "mimetype": "text/x-python",
   "name": "python",
   "nbconvert_exporter": "python",
   "pygments_lexer": "ipython3",
   "version": "3.6.0"
  }
 },
 "nbformat": 4,
 "nbformat_minor": 2
}
