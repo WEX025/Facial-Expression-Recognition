{
 "cells": [
  {
   "cell_type": "markdown",
   "metadata": {},
   "source": [
    "# Kaggle Competition: Facial Expression Recognition"
   ]
  },
  {
   "cell_type": "markdown",
   "metadata": {},
   "source": [
    "https://www.kaggle.com/c/challenges-in-representation-learning-facial-expression-recognition-challenge"
   ]
  },
  {
   "cell_type": "markdown",
   "metadata": {},
   "source": [
    "## Data Exploration"
   ]
  },
  {
   "cell_type": "markdown",
   "metadata": {},
   "source": [
    "### Overview of Dataset"
   ]
  },
  {
   "cell_type": "code",
   "execution_count": 151,
   "metadata": {},
   "outputs": [
    {
     "data": {
      "text/html": [
       "<div>\n",
       "<style>\n",
       "    .dataframe thead tr:only-child th {\n",
       "        text-align: right;\n",
       "    }\n",
       "\n",
       "    .dataframe thead th {\n",
       "        text-align: left;\n",
       "    }\n",
       "\n",
       "    .dataframe tbody tr th {\n",
       "        vertical-align: top;\n",
       "    }\n",
       "</style>\n",
       "<table border=\"1\" class=\"dataframe\">\n",
       "  <thead>\n",
       "    <tr style=\"text-align: right;\">\n",
       "      <th></th>\n",
       "      <th>emotion</th>\n",
       "      <th>pixels</th>\n",
       "      <th>Usage</th>\n",
       "    </tr>\n",
       "  </thead>\n",
       "  <tbody>\n",
       "    <tr>\n",
       "      <th>0</th>\n",
       "      <td>0</td>\n",
       "      <td>70 80 82 72 58 58 60 63 54 58 60 48 89 115 121...</td>\n",
       "      <td>Training</td>\n",
       "    </tr>\n",
       "    <tr>\n",
       "      <th>1</th>\n",
       "      <td>0</td>\n",
       "      <td>151 150 147 155 148 133 111 140 170 174 182 15...</td>\n",
       "      <td>Training</td>\n",
       "    </tr>\n",
       "    <tr>\n",
       "      <th>2</th>\n",
       "      <td>2</td>\n",
       "      <td>231 212 156 164 174 138 161 173 182 200 106 38...</td>\n",
       "      <td>Training</td>\n",
       "    </tr>\n",
       "    <tr>\n",
       "      <th>3</th>\n",
       "      <td>4</td>\n",
       "      <td>24 32 36 30 32 23 19 20 30 41 21 22 32 34 21 1...</td>\n",
       "      <td>Training</td>\n",
       "    </tr>\n",
       "    <tr>\n",
       "      <th>4</th>\n",
       "      <td>6</td>\n",
       "      <td>4 0 0 0 0 0 0 0 0 0 0 0 3 15 23 28 48 50 58 84...</td>\n",
       "      <td>Training</td>\n",
       "    </tr>\n",
       "    <tr>\n",
       "      <th>5</th>\n",
       "      <td>2</td>\n",
       "      <td>55 55 55 55 55 54 60 68 54 85 151 163 170 179 ...</td>\n",
       "      <td>Training</td>\n",
       "    </tr>\n",
       "    <tr>\n",
       "      <th>6</th>\n",
       "      <td>4</td>\n",
       "      <td>20 17 19 21 25 38 42 42 46 54 56 62 63 66 82 1...</td>\n",
       "      <td>Training</td>\n",
       "    </tr>\n",
       "    <tr>\n",
       "      <th>7</th>\n",
       "      <td>3</td>\n",
       "      <td>77 78 79 79 78 75 60 55 47 48 58 73 77 79 57 5...</td>\n",
       "      <td>Training</td>\n",
       "    </tr>\n",
       "    <tr>\n",
       "      <th>8</th>\n",
       "      <td>3</td>\n",
       "      <td>85 84 90 121 101 102 133 153 153 169 177 189 1...</td>\n",
       "      <td>Training</td>\n",
       "    </tr>\n",
       "    <tr>\n",
       "      <th>9</th>\n",
       "      <td>2</td>\n",
       "      <td>255 254 255 254 254 179 122 107 95 124 149 150...</td>\n",
       "      <td>Training</td>\n",
       "    </tr>\n",
       "  </tbody>\n",
       "</table>\n",
       "</div>"
      ],
      "text/plain": [
       "   emotion                                             pixels     Usage\n",
       "0        0  70 80 82 72 58 58 60 63 54 58 60 48 89 115 121...  Training\n",
       "1        0  151 150 147 155 148 133 111 140 170 174 182 15...  Training\n",
       "2        2  231 212 156 164 174 138 161 173 182 200 106 38...  Training\n",
       "3        4  24 32 36 30 32 23 19 20 30 41 21 22 32 34 21 1...  Training\n",
       "4        6  4 0 0 0 0 0 0 0 0 0 0 0 3 15 23 28 48 50 58 84...  Training\n",
       "5        2  55 55 55 55 55 54 60 68 54 85 151 163 170 179 ...  Training\n",
       "6        4  20 17 19 21 25 38 42 42 46 54 56 62 63 66 82 1...  Training\n",
       "7        3  77 78 79 79 78 75 60 55 47 48 58 73 77 79 57 5...  Training\n",
       "8        3  85 84 90 121 101 102 133 153 153 169 177 189 1...  Training\n",
       "9        2  255 254 255 254 254 179 122 107 95 124 149 150...  Training"
      ]
     },
     "metadata": {},
     "output_type": "display_data"
    }
   ],
   "source": [
    "import pandas as pd\n",
    "import numpy as np\n",
    "from IPython.display import display\n",
    "import matplotlib.pyplot as plt\n",
    "\n",
    "data = pd.read_csv(\"fer2013.csv\")\n",
    "display(data.head(n=10))"
   ]
  },
  {
   "cell_type": "code",
   "execution_count": 172,
   "metadata": {},
   "outputs": [
    {
     "name": "stdout",
     "output_type": "stream",
     "text": [
      "\u001b[1mThe total number of rows in dataset\u001b[0m\n",
      "\n",
      "emotion    35887\n",
      "pixels     35887\n",
      "Usage      35887\n",
      "dtype: int64\n",
      "\n",
      "\u001b[1mAll the keywords with their starting index in 'Usage' column\u001b[0m\n",
      "0           Training\n",
      "28709     PublicTest\n",
      "32298    PrivateTest\n",
      "Name: Usage, dtype: object\n"
     ]
    }
   ],
   "source": [
    "print (\"\\033[1mThe total number of rows in dataset\\033[0m\\n\")\n",
    "print (data.count())\n",
    "print (\"\\n\\033[1mAll the keywords with their starting index in 'Usage' column\\033[0m\")\n",
    "print (data.drop_duplicates('Usage')['Usage'])"
   ]
  },
  {
   "cell_type": "markdown",
   "metadata": {},
   "source": [
    "### Dataset Classification"
   ]
  },
  {
   "cell_type": "code",
   "execution_count": 174,
   "metadata": {},
   "outputs": [
    {
     "name": "stdout",
     "output_type": "stream",
     "text": [
      "File 'training_batch_1.csv' saved successfully\n",
      "File 'training_batch_2.csv' saved successfully\n",
      "File 'training_batch_3.csv' saved successfully\n",
      "File 'training_batch_4.csv' saved successfully\n",
      "File 'training_batch_5.csv' saved successfully\n",
      "File 'training_batch_6.csv' saved successfully\n",
      "File 'training_batch_6.csv' saved successfully\n",
      "File 'public_test.csv' saved successfully\n",
      "File 'private_test.csv' saved successfully\n"
     ]
    }
   ],
   "source": [
    "ix = 0\n",
    "for i in range(1,7):    # divide and save training data into 6 batches\n",
    "    if ix >= 24999:\n",
    "        data.loc[ix:28708].to_csv(\"training_batch_\"+str(i)+\".csv\")\n",
    "        print (\"File 'training_batch_\"+str(i)+\".csv' saved successfully\")\n",
    "    data.loc[ix:ix+4999].to_csv(\"training_batch_\"+str(i)+\".csv\")\n",
    "    print (\"File 'training_batch_\"+str(i)+\".csv' saved successfully\")\n",
    "    ix += 5000\n",
    "\n",
    "data.loc[28709:32297].to_csv(\"public_test.csv\")    # save public testing data\n",
    "print (\"File 'public_test.csv' saved successfully\")\n",
    "\n",
    "data.loc[32298:].to_csv(\"private_test.csv\")    # save private testing data\n",
    "print (\"File 'private_test.csv' saved successfully\")"
   ]
  },
  {
   "cell_type": "markdown",
   "metadata": {},
   "source": [
    "### Sample Image"
   ]
  },
  {
   "cell_type": "code",
   "execution_count": 170,
   "metadata": {},
   "outputs": [
    {
     "name": "stdout",
     "output_type": "stream",
     "text": [
      "\u001b[1mImage Info\u001b[0m\n",
      "\n",
      "Batch: 3 \n",
      "Example of image 111 with shape of: (48, 48)\n",
      "Emotion ID: 3\n",
      "\n",
      "\u001b[1mPixel Info\u001b[0m\n",
      "\n",
      "First 18 pixels: [107, 107, 105, 104, 104, 86, 52, 66, 143, 161, 157, 153, 150, 149, 151, 156, 157, 158] \n",
      "Max value of pixels: 213 \n",
      "MIn value of pixels: 0\n"
     ]
    },
    {
     "data": {
      "image/png": "[encoded data removed]",
      "text/plain": [
       "<matplotlib.figure.Figure at 0x7ff2a807d898>"
      ]
     },
     "metadata": {},
     "output_type": "display_data"
    }
   ],
   "source": [
    "batch_num = 3     # the batch number (tunable)\n",
    "eximg_ix = 111    # the index of sample image to be displayed (tunable), max # 5000\n",
    "\n",
    "tmp_data = pd.read_csv(\"training_batch_\"+str(batch_num)+\".csv\")\n",
    "image = tmp_data.loc[eximg_ix]['pixels'].split()\n",
    "img = list(map(int, image))\n",
    "image = np.array(img).reshape((48,48))\n",
    "\n",
    "print (\"\\033[1mImage Info\\033[0m\\n\")\n",
    "print (\"Batch:\", batch_num, \"\\nExample of image\", eximg_ix, \"with shape of:\", image.shape)\n",
    "print (\"Emotion ID:\", tmp_data.loc[eximg_ix]['emotion'])\n",
    "print (\"\\n\\033[1mPixel Info\\033[0m\\n\")\n",
    "print (\"First 18 pixels:\", img[:18], \"\\nMax value of pixels:\", max(img), \"\\nMIn value of pixels:\", min(img))\n",
    "plt.imshow(image, cmap='gray')\n",
    "plt.show()"
   ]
  }
 ],
 "metadata": {
  "kernelspec": {
   "display_name": "Python 3",
   "language": "python",
   "name": "python3"
  },
  "language_info": {
   "codemirror_mode": {
    "name": "ipython",
    "version": 3
   },
   "file_extension": ".py",
   "mimetype": "text/x-python",
   "name": "python",
   "nbconvert_exporter": "python",
   "pygments_lexer": "ipython3",
   "version": "3.5.2+"
  }
 },
 "nbformat": 4,
 "nbformat_minor": 2
}
